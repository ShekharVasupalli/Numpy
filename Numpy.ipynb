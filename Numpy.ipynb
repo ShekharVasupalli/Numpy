{
 "cells": [
  {
   "cell_type": "markdown",
   "id": "f96fd95a-e24a-44a6-a2dd-ccda411001ef",
   "metadata": {},
   "source": [
    "\n",
    "\n",
    "\n",
    "                           ''''''''''''''''''''   Theoretical Questions   ''''''''''''''''''''\n",
    "\n",
    "\n",
    "\n",
    "\n",
    "Q1) Explain the purpose and advantages of NumPy in scientific computing and data analysis. How does it enhance Python's capabilities for numerical operations?\n",
    "\n",
    "\n",
    "Ans) NumPy (Numerical Python) is a powerful library for scientific computing and data analysis in Python. It provides a range of tools for working with large multi-dimensional arrays and matrices, along with an extensive collection of mathematical functions. Its primary purpose is to enable efficient and fast numerical operations, which are essential in scientific computing and data analysis tasks.\n",
    "\n",
    "\n",
    "Purpose of NumPy:\n",
    "\n",
    "Efficient Arrays: NumPy's ndarray object provides compact, memory-efficient arrays, outperforming Python lists in speed and storage.\n",
    "\n",
    "Mathematical Functions: It includes functions for linear algebra, statistics, and more, optimized for working on entire arrays without loops.\n",
    "\n",
    "Library Integration: NumPy is foundational for libraries like SciPy, pandas, and TensorFlow, facilitating efficient data handling.\n",
    "\n",
    "Broadcasting: It supports operations on arrays of different shapes without creating extra data, improving performance in multidimensional tasks.\n",
    "\n",
    "\n",
    "Advantages of NumPy:\n",
    "\n",
    "Speed & Efficiency: NumPy is faster than Python lists, thanks to its C implementation. It also supports vectorized operations, reducing the need for loops and speeding up computations.\n",
    "\n",
    "Memory Efficiency: NumPy arrays use less memory than Python lists by storing elements in contiguous memory locations, making data retrieval and processing more efficient.\n",
    "\n",
    "Multidimensional Data Handling: NumPy supports n-dimensional arrays (ndarray), offering advanced slicing and indexing for easy manipulation of complex data structures.\n",
    "\n",
    "Mathematical Functions: It provides key functions for matrix multiplication, eigenvalue computation, Fourier transforms, and other linear algebra tasks essential for scientific computing and machine learning.\n",
    "\n",
    "Interoperability: NumPy integrates easily with C, C++, and Fortran, optimizing performance for heavy computations.\n",
    "\n",
    "Library Integration: Many scientific libraries like pandas, SciPy, and TensorFlow rely on NumPy arrays, ensuring seamless data interoperability.\n",
    "\n",
    "Enhancing Python's Numerical Capabilities:\n",
    "\n",
    "Without NumPy, Python's default data structures like lists and dictionaries are not optimized for numerical calculations. While Python is a powerful programming language, it is not inherently optimized for heavy mathematical computations, especially when working with large datasets or performing complex operations like matrix multiplications or solving systems of linear equations.\n",
    "\n",
    "NumPy enhances Python's numerical capabilities by:\n",
    "\n",
    "Providing highly efficient data structures (arrays) for storing and manipulating numerical data.\n",
    "Reducing the need for loops in mathematical operations (using vectorization).\n",
    "Offering a wide range of mathematical functions optimized for performance.\n",
    "Allowing more control over data types, which helps in handling different precision requirements for numerical tasks."
   ]
  },
  {
   "cell_type": "markdown",
   "id": "0b531990-6131-4dd9-81a0-4a06e0aa2afd",
   "metadata": {},
   "source": [
    "Q2)  Compare and contrast np.mean() and np.average() functions in NumPy. When would you use one over the  other?\n",
    "\n",
    "Ans) In NumPy, both np.mean() and np.average() are used to compute the central tendency of an array, but they differ in their behavior and applications. Here's a comparison:\n",
    "\n",
    "1. Basic Difference:\n",
    "np.mean():\n",
    "\n",
    "Purpose: Computes the arithmetic mean (average) of the array elements.\n",
    "Weights: Does not take any weights into account; all values are treated equally.\n",
    "Usage: Use when you need a simple mean calculation.\n",
    "\n",
    "\n",
    "np.average():\n",
    "\n",
    "Purpose: Computes a weighted average of the array elements.\n",
    "Weights: Accepts an optional weights parameter, which allows each element to contribute differently to the result.\n",
    "Usage: Use when you need to calculate a weighted mean or when you want more control over how elements contribute to the average.\n",
    "\n",
    "\n",
    "2. Parameters:\n",
    "np.mean():\n",
    "\n",
    "Syntax: np.mean(a, axis=None, dtype=None, out=None, keepdims=False)\n",
    "Takes the average over the specified axis (default is all elements).\n",
    "Returns the unweighted mean of the array elements.\n",
    "\n",
    "\n",
    "np.average():\n",
    "\n",
    "Syntax: np.average(a, axis=None, weights=None, returned=False)\n",
    "Takes an additional weights parameter. If weights is not provided, it behaves the same as np.mean().\n",
    "Can return both the weighted average and the sum of weights if returned=True.\n",
    "\n",
    "\n",
    "3. Weighted Average:\n",
    "np.mean(): Does not support weighting, so it computes the simple mean.\n",
    "np.average(): Supports weighting via the weights argument, allowing you to calculate a weighted average where some values have more influence than others.\n",
    "\n",
    "\n",
    "5. Performance:\n",
    "When weights are not needed, np.mean() is slightly faster and more efficient because it doesn’t involve additional computations for weights.\n",
    "When you need to apply weights, np.average() is the appropriate function to use."
   ]
  },
  {
   "cell_type": "code",
   "execution_count": 3,
   "id": "d7c9c6e3-97aa-4ceb-8697-cbaf8a36a8ca",
   "metadata": {},
   "outputs": [
    {
     "name": "stdout",
     "output_type": "stream",
     "text": [
      "[5 4 3 2 1]\n",
      "________________________________\n",
      "[[7 8 9]\n",
      " [4 5 6]\n",
      " [1 2 3]]\n",
      "________________________________\n",
      "[[3 2 1]\n",
      " [6 5 4]\n",
      " [9 8 7]]\n",
      "________________________________\n",
      "[5 4 3 2 1]\n",
      "________________________________\n",
      "[[9 8 7]\n",
      " [6 5 4]\n",
      " [3 2 1]]\n",
      "________________________________\n",
      "[[7 8 9]\n",
      " [4 5 6]\n",
      " [1 2 3]]\n",
      "________________________________\n",
      "[[3 2 1]\n",
      " [6 5 4]\n",
      " [9 8 7]]\n",
      "________________________________\n",
      "[[7 8 9]\n",
      " [4 5 6]\n",
      " [1 2 3]]\n",
      "________________________________\n",
      "[[3 2 1]\n",
      " [6 5 4]\n",
      " [9 8 7]]\n"
     ]
    }
   ],
   "source": [
    "''' Q3) Describe the methods for reversing a NumPy array along different axes. Provide examples for 1D and 2D  arrays.\n",
    "Ans) Reversing a NumPy array along different axes can be done using several methods that allow control over which axis is reversed, depending on \n",
    "whether the array is one-dimensional (1D), two-dimensional (2D), or higher-dimensional. Here are the key methods, followed by theoretical explanations \n",
    "and examples for 1D and 2D arrays.\n",
    "\n",
    "1. Reversing Using Slicing ([::-1])\n",
    "Theory:\n",
    "Slicing in Python and NumPy allows selecting elements from an array or list with a specified step size. The slicing syntax [::-1] reverses the array \n",
    "because the -1 indicates that the step size is negative, which effectively traverses the array from the last element to the first.\n",
    "\n",
    "For 1D arrays, [::-1] reverses the order of elements.\n",
    "For 2D arrays, slicing can be applied along each axis:\n",
    "[::-1] reverses the rows (i.e., it flips the array vertically).\n",
    "[:, ::-1] reverses the columns (i.e., it flips the array horizontally).\n",
    "Examples: '''\n",
    "\n",
    "# 1D Array:\n",
    "import numpy as np\n",
    "arr_1d = np.array([1, 2, 3, 4, 5])\n",
    "reversed_1d = arr_1d[::-1]\n",
    "print (reversed_1d)\n",
    "\n",
    "print(\"________________________________\")\n",
    "\n",
    "# 2D Array (Reversing Rows):\n",
    "arr_2d = np.array([[1, 2, 3], [4, 5, 6], [7, 8, 9]])\n",
    "reversed_rows = arr_2d[::-1]\n",
    "print (reversed_rows)\n",
    "\n",
    "print(\"________________________________\")\n",
    "\n",
    "# 2D Array (Reversing Columns):\n",
    "reversed_columns = arr_2d[:, ::-1]\n",
    "print(reversed_columns)\n",
    "\n",
    "print(\"________________________________\")\n",
    "\n",
    "''' 2. Using np.flip():\n",
    "np.flip() allows you to reverse an array along a specified axis. '''\n",
    "\n",
    "# 1D Array Example:\n",
    " \n",
    "reversed_1d_flip = np.flip(arr_1d)\n",
    "print(reversed_1d_flip)\n",
    "\n",
    "print(\"________________________________\")\n",
    "\n",
    "# 2D Array Example (Reverse along both axes):\n",
    "\n",
    "reversed_2d_flip = np.flip(arr_2d)\n",
    "print(reversed_2d_flip)\n",
    "\n",
    "print(\"________________________________\")\n",
    "\n",
    "# 2D Array Example (Reverse only rows):\n",
    "\n",
    "reversed_rows_flip = np.flip(arr_2d, axis=0)\n",
    "print(reversed_rows_flip)\n",
    "\n",
    "print(\"________________________________\")\n",
    "\n",
    "# 2D Array Example (Reverse only columns):\n",
    "\n",
    "reversed_columns_flip = np.flip(arr_2d, axis=1)\n",
    "print(reversed_columns_flip)\n",
    "\n",
    "print(\"________________________________\")\n",
    "\n",
    "''' 3. Using np.flipud() and np.fliplr():\n",
    "np.flipud() flips an array along the vertical axis (up/down).\n",
    "np.fliplr() flips an array along the horizontal axis (left/right). '''\n",
    "\n",
    "# 2D Array Example (Vertical Flip):\n",
    "\n",
    "flipped_ud = np.flipud(arr_2d)\n",
    "print(flipped_ud)\n",
    "\n",
    "print(\"________________________________\")\n",
    "\n",
    "# 2D Array Example (Horizontal Flip):\n",
    "\n",
    "flipped_lr = np.fliplr(arr_2d)\n",
    "print(flipped_lr)\n",
    "\n"
   ]
  },
  {
   "cell_type": "markdown",
   "id": "0b2b2724-86dd-46dd-b204-053f01baa5ff",
   "metadata": {},
   "source": [
    "Q4)  How can you determine the data type of elements in a NumPy array? Discuss the importance of data types in memory management and performance.\n",
    "\n",
    "Ans) To determine the data type of elements in a NumPy array, you can use the following methods:\n",
    "\n",
    "dtype Attribute:\n",
    "\n",
    "The dtype attribute of a NumPy array provides the data type of the elements stored in the array.\n",
    "Example:\n",
    "\n",
    "import numpy as np\n",
    "arr = np.array([1, 2, 3])\n",
    "print(arr.dtype) \n",
    "\n",
    "np.array() and dtype Parameter:\n",
    "\n",
    "When creating a NumPy array, you can explicitly set the data type using the dtype parameter. This is useful for controlling the data type and ensuring compatibility with specific numerical operations.\n",
    "Example:\n",
    "arr = np.array([1, 2, 3], dtype=np.float64)\n",
    "print(arr.dtype)\n",
    "\n",
    "\n",
    "astype() Method:\n",
    "\n",
    "The astype() method can be used to convert the data type of the elements in the array to another type. This is also a way to examine and manipulate the data type of an array.\n",
    "Example:\n",
    "arr = np.array([1.0, 2.0, 3.0])\n",
    "new_arr = arr.astype(int)\n",
    "print(new_arr.dtype)\n",
    "\n",
    "\n",
    "Importance of Data Types in NumPy\n",
    "1. Memory Management:\n",
    "Data types (or dtype in NumPy) define how much memory is allocated for each element of an array. Each data type specifies the size of the data in bytes, and choosing the correct data type has a significant impact on memory usage:\n",
    "\n",
    "Smaller data types save memory: For example, int8 (8-bit integer) uses 1 byte per element, while int64 (64-bit integer) uses 8 bytes per element. For large arrays, choosing a smaller data type can drastically reduce memory consumption.\n",
    "\n",
    "Higher precision uses more memory: Data types like float64 (64-bit floating point) consume more memory than float32 (32-bit floating point). Using high precision where not necessary can lead to inefficient memory use.\n",
    "\n",
    "Efficient use of memory is critical in large datasets: When working with millions of data points (e.g., in machine learning or big data analytics), selecting the appropriate data type ensures that memory is used efficiently, preventing unnecessary memory allocation or memory overflow.\n",
    "\n",
    "2. Performance Optimization:\n",
    "The data type of a NumPy array also impacts the performance of operations:\n",
    "\n",
    "Faster computation with lower precision types: Operations involving lower precision data types (like int16 or float32) are faster because they require less computation and bandwidth compared to higher precision types (like int64 or float64). For tasks that do not need high precision, this leads to significant performance gains.\n",
    "\n",
    "Hardware-level optimization: NumPy arrays are implemented in C, and NumPy leverages low-level optimization (SIMD instructions) that is tuned to the array's data type. This allows NumPy to perform operations like element-wise addition, multiplication, and matrix transformations very quickly, especially when the data type matches the underlying hardware architecture.\n",
    "\n",
    "Cache efficiency: Choosing smaller data types allows more elements to fit into the CPU cache, improving cache performance. This is critical when performing repeated operations on large datasets.\n",
    "\n",
    "3. Numerical Precision:\n",
    "Data types also determine the precision of numerical operations:\n",
    "\n",
    "Precision errors in floating-point operations: Using data types with lower precision (e.g., float32 vs. float64) can lead to rounding errors in numerical computations. In scientific computing, simulations, or machine learning tasks where numerical accuracy is paramount, using the appropriate data type ensures that calculations remain accurate.\n",
    "\n",
    "Integer overflow/underflow: Choosing an integer data type that is too small (e.g., int8 or int16) can result in overflow or underflow if values exceed the range that the data type can store. Ensuring the right data type is crucial for avoiding these errors."
   ]
  },
  {
   "cell_type": "markdown",
   "id": "e1519d5d-1059-4c17-b883-5462471e44f2",
   "metadata": {},
   "source": [
    "Q5)  Define ndarrays in NumPy and explain their key features. How do they differ from standard Python lists?\n",
    "Ans) What are ndarrays in NumPy?\n",
    "In NumPy, an ndarray (N-dimensional array) is the core data structure used to store and manipulate numerical data. It is a grid-like structure that holds items of the same data type, typically numbers, arranged in multiple dimensions. These arrays are homogeneous, meaning every element in the array must be of the same type, and they allow for fast and efficient numerical operations.\n",
    "\n",
    "Key Features of ndarrays\n",
    "Multidimensional Support:\n",
    "\n",
    "An ndarray can have any number of dimensions, from 1D (like a vector) to 2D (like a matrix), to higher dimensions (n-dimensional arrays).\n",
    "\n",
    "Homogeneous Data Types:\n",
    "\n",
    "All elements in an ndarray must have the same data type (e.g., int32, float64), ensuring memory efficiency and fast operations.\n",
    "\n",
    "Memory Efficiency:\n",
    "\n",
    "ndarrays are stored in contiguous blocks of memory, unlike Python lists which are arrays of pointers to objects. This makes them much more memory-efficient and faster to access.\n",
    "The dtype attribute specifies the data type of the array, which helps NumPy optimize memory use.\n",
    "Vectorized Operations:\n",
    "\n",
    "Operations on ndarrays are performed element-wise, without the need for explicit loops. This concept, known as vectorization, allows for fast and efficient computations.\n",
    "\n",
    "Broadcasting:\n",
    "\n",
    "NumPy allows arithmetic operations on arrays of different shapes, automatically \"broadcasting\" the smaller array over the larger array to make the operation compatible.\n",
    "\n",
    "Slicing and Indexing:\n",
    "\n",
    "ndarrays support advanced slicing and indexing, allowing you to efficiently select and manipulate specific elements, rows, columns, or sub-arrays.\n",
    "\n",
    "Support for Mathematical Functions:\n",
    "\n",
    "NumPy provides a wide array of mathematical, statistical, and linear algebra functions that operate on ndarrays, making them a powerful tool for scientific computing and data analysis.\n",
    "\n",
    "Shape and Size Attributes:\n",
    "\n",
    "The shape attribute indicates the dimensions of the array (e.g., 2x3 for a 2D array with 2 rows and 3 columns).\n",
    "The size attribute provides the total number of elements in the array.\n",
    "\n",
    "How ndarrays Differ from Python Lists\n",
    "Memory Efficiency:\n",
    "\n",
    "Python lists are collections of references to objects, meaning each element in a list is a pointer to an object stored elsewhere in memory. In contrast, ndarrays store elements in contiguous memory, which is far more efficient, especially for large datasets.\n",
    "NumPy arrays use less memory because the data is stored in a fixed type and in compact form.\n",
    "Homogeneity:\n",
    "\n",
    "Python lists can store elements of different data types (e.g., integers, floats, strings). ndarrays, however, require all elements to be of the same type, which allows NumPy to optimize storage and performance.\n",
    "Performance (Speed):\n",
    "\n",
    "Due to contiguous memory storage and vectorized operations, ndarrays are significantly faster than Python lists for numerical and mathematical computations. Python lists require explicit loops for such operations, which are slower.\n",
    "Vectorized Operations:\n",
    "\n",
    "Operations on NumPy arrays are applied element-wise without the need for looping (i.e., vectorized). Python lists require explicit loops to perform element-wise operations, which are slower and more complex.\n",
    "\n",
    "NumPy arrays can perform operations with arrays of different shapes through broadcasting, making mathematical operations flexible. Python lists don't support broadcasting and would require explicit loops to achieve the same result.\n",
    "Built-in Functions for Arrays:\n",
    "\n",
    "NumPy provides a vast collection of optimized mathematical, statistical, and algebraic functions that work directly on arrays, which Python lists do not support. For example, functions like np.sum(), np.mean(), and np.dot() make complex operations easy and efficient with ndarrays."
   ]
  },
  {
   "cell_type": "markdown",
   "id": "5d887a18-46c5-4d57-bb1b-67d7f1848882",
   "metadata": {},
   "source": [
    "Q6)  Analyze the performance benefits of NumPy arrays over Python lists for large-scale numerical operations.\n",
    "\n",
    "Ans) NumPy arrays offer significant performance benefits over Python lists for large-scale numerical operations due to:\n",
    "\n",
    "Memory Efficiency: NumPy arrays store elements in contiguous memory blocks, using less memory compared to Python lists, which store pointers to objects. This makes data retrieval and processing faster.\n",
    "\n",
    "Vectorization: NumPy supports element-wise operations without explicit loops (vectorization), enabling fast, low-level execution, whereas Python lists require slow, explicit iteration.\n",
    "\n",
    "Optimized Mathematical Functions: NumPy provides a suite of optimized, pre-built mathematical functions that operate efficiently on arrays, reducing the need for manual implementation.\n",
    "\n",
    "Broadcasting: NumPy arrays can handle operations between arrays of different shapes via broadcasting, simplifying and speeding up computation without extra memory overhead.\n",
    "\n",
    "NumPy arrays provide faster computation, efficient memory usage, and better scalability, making them ideal for large-scale numerical operations."
   ]
  },
  {
   "cell_type": "code",
   "execution_count": 12,
   "id": "a56ef7be-d697-47f7-8594-d965b1a8b7ca",
   "metadata": {},
   "outputs": [
    {
     "name": "stdout",
     "output_type": "stream",
     "text": [
      "[[1 2]\n",
      " [3 4]]\n",
      "______________________\n",
      "[1 2 3 4]\n"
     ]
    }
   ],
   "source": [
    "''' Q7) Compare vstack() and hstack() functions in NumPy. Provide examples demonstrating their usage and  output.\n",
    "\n",
    "Ans) Comparison of vstack() and hstack() in NumPy:\n",
    "vstack() (Vertical Stack): Combines arrays by stacking them vertically (row-wise). The arrays must have the same number of columns.\n",
    "\n",
    "hstack() (Horizontal Stack): Combines arrays by stacking them horizontally (column-wise). The arrays must have the same number of rows.\n",
    "\n",
    "Examples:'''\n",
    "# vstack() Example:\n",
    "\n",
    "import numpy as np\n",
    "arr1 = np.array([1, 2])\n",
    "arr2 = np.array([3, 4])\n",
    "result = np.vstack((arr1, arr2))\n",
    "print(result)\n",
    "\n",
    "print(\"______________________\")\n",
    "\n",
    "# hstack() Example:\n",
    "\n",
    "import numpy as np\n",
    "arr1 = np.array([1, 2])\n",
    "arr2 = np.array([3, 4])\n",
    "result = np.hstack((arr1, arr2))\n",
    "print(result)\n",
    "\n",
    "\n",
    "#vstack() stacks arrays along the vertical axis (adds rows).\n",
    "#hstack() stacks arrays along the horizontal axis (adds columns)."
   ]
  },
  {
   "cell_type": "code",
   "execution_count": 28,
   "id": "69229eb7-f817-4194-89dd-7e8167897083",
   "metadata": {},
   "outputs": [
    {
     "name": "stdout",
     "output_type": "stream",
     "text": [
      "[[3 2 1]\n",
      " [6 5 4]]\n",
      "______________________\n",
      "[[4 5 6]\n",
      " [1 2 3]]\n"
     ]
    }
   ],
   "source": [
    "''' Q8) Explain the differences between fliplr() and flipud() methods in NumPy, including their effects on various  array dimensions.\n",
    "\n",
    "\n",
    "Ans) In NumPy, both fliplr() and flipud() are used to reverse the order of elements in a 2D array, but they operate along different axes:\n",
    "\n",
    "1. fliplr() (Flip Left to Right):\n",
    "Purpose: Reverses the elements in each row of a 2D array, flipping the array along the vertical axis (left to right).\n",
    "\n",
    "Effect: It flips the array horizontally, leaving the row order unchanged but reversing the content of each row.\n",
    "\n",
    "Applicable: For 2D arrays with at least two columns.\n",
    "Example: '''\n",
    "\n",
    "import numpy as np\n",
    "arr = np.array([[1, 2, 3], [4, 5, 6]])\n",
    "result = np.fliplr(arr)\n",
    "print(result)\n",
    "\n",
    "print(\"______________________\")\n",
    "\n",
    "''' 2. flipud() (Flip Up to Down):\n",
    "Purpose: Reverses the order of rows in a 2D array, flipping the array along the horizontal axis (up to down).\n",
    "\n",
    "Effect: It flips the array vertically, reversing the row order but leaving the content of each row unchanged.\n",
    "\n",
    "Applicable: For 2D arrays with at least two rows.\n",
    "Example: '''\n",
    "\n",
    "arr = np.array([[1, 2, 3],\n",
    "                [4, 5, 6]])\n",
    "result = np.flipud(arr)\n",
    "print(result)\n",
    "\n",
    "\n",
    "#Key Differences:\n",
    "#fliplr(): Flips the elements within each row, reflecting the array horizontally (left-right).\n",
    "\n",
    "#flipud(): Flips the rows themselves, reflecting the array vertically (up-down).\n",
    "\n",
    "#In summary, fliplr() changes the order of elements in rows, while flipud() changes the order of rows themselves."
   ]
  },
  {
   "cell_type": "code",
   "execution_count": 26,
   "id": "ee377e41-4995-4081-a5ed-c1af81dab67d",
   "metadata": {},
   "outputs": [
    {
     "name": "stdout",
     "output_type": "stream",
     "text": [
      "[array([1, 2, 3]), array([4, 5]), array([6, 7])]\n"
     ]
    }
   ],
   "source": [
    "''' Q9)  Discuss the functionality of the array_split() method in NumPy. How does it handle uneven splits?\n",
    "\n",
    "Ans) The array_split() method in NumPy is used to split an array into multiple sub-arrays. It is a flexible version of the split() method, especially useful when the array cannot be evenly divided.\n",
    "\n",
    "Functionality of array_split()\n",
    "Basic Use: It splits an array into a specified number of sub-arrays. You can define how many parts you want the array to be split into.\n",
    "Uneven Splits: If the array size is not divisible by the number of parts, array_split() will handle the remainder by distributing extra elements into some of the sub-arrays. The first sub-arrays will have one more element than the others to accommodate the unevenness.\n",
    "How It Handles Uneven Splits:\n",
    "When the number of elements in the array is not divisible by the number of splits:\n",
    "\n",
    "Larger sub-arrays are created for the initial splits, containing one more element than the later sub-arrays. '''\n",
    "#Example\n",
    "\n",
    "import numpy as np\n",
    "\n",
    "arr = np.array([1, 2, 3, 4, 5, 6, 7])\n",
    "result = np.array_split(arr, 3)\n",
    "print(result)\n",
    "\n",
    "\n",
    "#In the example, array_split(arr, 3) splits the 7-element array into 3 parts. Since 7 cannot be divided evenly by 3:\n",
    "\n",
    "#The first sub-array has 3 elements,\n",
    "#The second and third sub-arrays each have 2 elements.\n",
    "#Comparison with split():\n",
    "#If you use split(), it will raise an error when the array cannot be evenly split, unlike array_split(), which handles uneven cases gracefully."
   ]
  },
  {
   "cell_type": "code",
   "execution_count": 38,
   "id": "317dceb9-8892-434e-b20a-7dd32383cc3a",
   "metadata": {},
   "outputs": [
    {
     "name": "stdout",
     "output_type": "stream",
     "text": [
      "[2 4 6]\n",
      "____________________\n",
      "[[2 4 6]\n",
      " [5 7 9]]\n",
      "____________________\n"
     ]
    }
   ],
   "source": [
    "''' Q10)  Explain the concepts of vectorization and broadcasting in NumPy. How do they contribute to efficient array\n",
    "operations?\n",
    "Ans) Vectorization:\n",
    "Concept: Vectorization refers to performing operations directly on entire arrays (or vectors) without the need for explicit loops. In NumPy, operations like addition, multiplication, and other mathematical functions are applied element-wise to entire arrays at once.\n",
    "Benefit: It leverages low-level optimizations, making operations faster by eliminating Python loops and allowing NumPy to use highly efficient C-based implementations.\n",
    "Example: '''\n",
    "\n",
    "import numpy as np\n",
    "arr = np.array([1, 2, 3])\n",
    "result = arr * 2 \n",
    "print(result)\n",
    "\n",
    "print(\"____________________\")\n",
    "\n",
    "''' Broadcasting:\n",
    "Concept: Broadcasting allows NumPy to perform operations on arrays of different shapes by automatically expanding the smaller array to match the shape of the larger one. This enables operations without creating large temporary arrays, saving memory and computation time.\n",
    "Benefit: It simplifies code and allows for efficient computation on arrays with different dimensions.\n",
    "Example: '''\n",
    "\n",
    "arr = np.array([[1, 2, 3], [4, 5, 6]])\n",
    "vec = np.array([1, 2, 3])\n",
    "result = arr + vec\n",
    "print(result)\n",
    "\n",
    "\n",
    "''' Contribution to Efficiency:\n",
    "Vectorization speeds up operations by using optimized internal code.\n",
    "Broadcasting reduces memory usage and simplifies computations by avoiding redundant data expansion.\n",
    "Together, they make array operations in NumPy much faster and more efficient. '''\n",
    "\n",
    "print(\"____________________\")"
   ]
  },
  {
   "cell_type": "markdown",
   "id": "40f1d2e8-721d-4442-a220-3a3abcd9108f",
   "metadata": {},
   "source": [
    "                 '''''''''''''''''''''''''   Practical Questions   '''''''''''''''''''''''''"
   ]
  },
  {
   "cell_type": "markdown",
   "id": "bcdf36c0-d76e-4de4-b319-e71378ef17e7",
   "metadata": {},
   "source": [
    "Q1)  Create a 3x3 NumPy array with random integers between 1 and 100. Then, interchange its rows and columns.\n",
    "\n",
    "Ans) "
   ]
  },
  {
   "cell_type": "code",
   "execution_count": 42,
   "id": "8334d0e2-c8ff-46c7-9563-bd0cf7c2ce78",
   "metadata": {},
   "outputs": [
    {
     "data": {
      "text/plain": [
       "(array([[60, 69, 96],\n",
       "        [85,  4,  3],\n",
       "        [16, 67, 69]]),\n",
       " array([[60, 85, 16],\n",
       "        [69,  4, 67],\n",
       "        [96,  3, 69]]))"
      ]
     },
     "execution_count": 42,
     "metadata": {},
     "output_type": "execute_result"
    }
   ],
   "source": [
    "import numpy as np\n",
    "arr = np.random.randint(1, 101, size=(3, 3))\n",
    "transposed_arr = arr.T\n",
    "arr, transposed_arr\n"
   ]
  },
  {
   "cell_type": "markdown",
   "id": "cb7a380c-15dd-431f-90de-54b25e541399",
   "metadata": {},
   "source": [
    "Q2) Generate a 1D NumPy array with 10 elements. Reshape it into a 2x5 array, then into a 5x2 array.\n",
    "\n",
    "Ans)"
   ]
  },
  {
   "cell_type": "code",
   "execution_count": 44,
   "id": "f3835601-8451-421e-8001-3167a571ac03",
   "metadata": {},
   "outputs": [
    {
     "data": {
      "text/plain": [
       "(array([0, 1, 2, 3, 4, 5, 6, 7, 8, 9]),\n",
       " array([[0, 1, 2, 3, 4],\n",
       "        [5, 6, 7, 8, 9]]),\n",
       " array([[0, 1],\n",
       "        [2, 3],\n",
       "        [4, 5],\n",
       "        [6, 7],\n",
       "        [8, 9]]))"
      ]
     },
     "execution_count": 44,
     "metadata": {},
     "output_type": "execute_result"
    }
   ],
   "source": [
    "# Generate a 1D NumPy array with 10 elements\n",
    "array_1d = np.arange(10)\n",
    "\n",
    "# Reshape it into a 2x5 array\n",
    "array_2x5 = array_1d.reshape(2, 5)\n",
    "\n",
    "# Reshape it into a 5x2 array\n",
    "array_5x2 = array_2x5.reshape(5, 2)\n",
    "\n",
    "array_1d, array_2x5, array_5x2\n"
   ]
  },
  {
   "cell_type": "markdown",
   "id": "f4a9766e-bc56-402b-976e-9078b0aa9e8e",
   "metadata": {},
   "source": [
    "Q3)  Create a 4x4 NumPy array with random float values. Add a border of zeros around it, resulting in a 6x6 array.\n",
    "\n",
    "Ans)"
   ]
  },
  {
   "cell_type": "code",
   "execution_count": 46,
   "id": "3ca680fa-cac3-4fb9-9f86-725402d90e79",
   "metadata": {},
   "outputs": [
    {
     "data": {
      "text/plain": [
       "(array([[0.10271336, 0.29754167, 0.05206862, 0.55695582],\n",
       "        [0.66697611, 0.11960796, 0.42464748, 0.86661192],\n",
       "        [0.83316294, 0.92463977, 0.80935841, 0.25384755],\n",
       "        [0.24308174, 0.09726468, 0.54619848, 0.73924417]]),\n",
       " array([[0.        , 0.        , 0.        , 0.        , 0.        ,\n",
       "         0.        ],\n",
       "        [0.        , 0.10271336, 0.29754167, 0.05206862, 0.55695582,\n",
       "         0.        ],\n",
       "        [0.        , 0.66697611, 0.11960796, 0.42464748, 0.86661192,\n",
       "         0.        ],\n",
       "        [0.        , 0.83316294, 0.92463977, 0.80935841, 0.25384755,\n",
       "         0.        ],\n",
       "        [0.        , 0.24308174, 0.09726468, 0.54619848, 0.73924417,\n",
       "         0.        ],\n",
       "        [0.        , 0.        , 0.        , 0.        , 0.        ,\n",
       "         0.        ]]))"
      ]
     },
     "execution_count": 46,
     "metadata": {},
     "output_type": "execute_result"
    }
   ],
   "source": [
    "# Create a 4x4 NumPy array with random float values\n",
    "array_4x4 = np.random.rand(4, 4)\n",
    "\n",
    "# Add a border of zeros around the 4x4 array to make it a 6x6 array\n",
    "array_6x6 = np.pad(array_4x4, pad_width=1, mode='constant', constant_values=0)\n",
    "\n",
    "array_4x4, array_6x6\n"
   ]
  },
  {
   "cell_type": "markdown",
   "id": "ec7af7f1-816e-4fd7-942a-0eabc811b19f",
   "metadata": {},
   "source": [
    "Q4) Using NumPy, create an array of integers from 10 to 60 with a step of 5.\n",
    "\n",
    "Ans)"
   ]
  },
  {
   "cell_type": "code",
   "execution_count": 50,
   "id": "65737656-e924-4bf6-9009-b00ff70baffc",
   "metadata": {},
   "outputs": [
    {
     "name": "stdout",
     "output_type": "stream",
     "text": [
      "[10 15 20 25 30 35 40 45 50 55 60]\n"
     ]
    }
   ],
   "source": [
    "import numpy as np\n",
    "\n",
    "array = np.arange(10, 61, 5)\n",
    "print(array)\n"
   ]
  },
  {
   "cell_type": "markdown",
   "id": "5ebdcc2c-d0fe-49fe-bf41-6f28c2f1a37b",
   "metadata": {},
   "source": [
    "Q5) Create a NumPy array of strings ['python', 'numpy', 'pandas']. Apply different case transformations  (uppercase, lowercase, title case, etc.) to each element.\n",
    "\n",
    "Ans) "
   ]
  },
  {
   "cell_type": "code",
   "execution_count": 52,
   "id": "c5ecc672-1cc6-4880-91f2-86377d957ff7",
   "metadata": {},
   "outputs": [
    {
     "name": "stdout",
     "output_type": "stream",
     "text": [
      "Original: ['python' 'numpy' 'pandas']\n",
      "Uppercase: ['PYTHON' 'NUMPY' 'PANDAS']\n",
      "Lowercase: ['python' 'numpy' 'pandas']\n",
      "Title Case: ['Python' 'Numpy' 'Pandas']\n",
      "Capitalize: ['Python' 'Numpy' 'Pandas']\n"
     ]
    }
   ],
   "source": [
    "import numpy as np\n",
    "\n",
    "# Create a NumPy array of strings\n",
    "arr = np.array(['python', 'numpy', 'pandas'])\n",
    "\n",
    "# Apply different case transformations\n",
    "uppercase = np.char.upper(arr)\n",
    "lowercase = np.char.lower(arr)\n",
    "titlecase = np.char.title(arr)\n",
    "capitalize = np.char.capitalize(arr)\n",
    "\n",
    "# Display the results\n",
    "print(\"Original:\", arr)\n",
    "print(\"Uppercase:\", uppercase)\n",
    "print(\"Lowercase:\", lowercase)\n",
    "print(\"Title Case:\", titlecase)\n",
    "print(\"Capitalize:\", capitalize)\n"
   ]
  },
  {
   "cell_type": "markdown",
   "id": "d84e85ce-2fae-4f9c-8a7c-64d459b2cc89",
   "metadata": {},
   "source": [
    "Q6)  Generate a NumPy array of words. Insert a space between each character of every word in the array.\n",
    "\n",
    "Ans) "
   ]
  },
  {
   "cell_type": "code",
   "execution_count": 54,
   "id": "2cd37c03-b28f-4a7d-9579-b73c32a0de3f",
   "metadata": {},
   "outputs": [
    {
     "name": "stdout",
     "output_type": "stream",
     "text": [
      "['h e l l o' 'w o r l d' 'n u m p y' 'a r r a y']\n"
     ]
    }
   ],
   "source": [
    "import numpy as np\n",
    "\n",
    "# Create a NumPy array of words\n",
    "words = np.array(['hello', 'world', 'numpy', 'array'])\n",
    "spaced_words = np.char.join(' ', words)\n",
    "\n",
    "print(spaced_words)\n"
   ]
  },
  {
   "cell_type": "markdown",
   "id": "3e368c3d-9d9f-4fb4-896a-357972068814",
   "metadata": {},
   "source": [
    "Q7)  Create two 2D NumPy arrays and perform element-wise addition, subtraction, multiplication, and division.\n",
    "\n",
    "Ans) "
   ]
  },
  {
   "cell_type": "code",
   "execution_count": 56,
   "id": "b610a4c8-ee0c-4e6f-b51b-8403f536a4b6",
   "metadata": {},
   "outputs": [
    {
     "name": "stdout",
     "output_type": "stream",
     "text": [
      "Array 1:\n",
      " [[1 2 3]\n",
      " [4 5 6]]\n",
      "Array 2:\n",
      " [[ 7  8  9]\n",
      " [10 11 12]]\n",
      "Addition:\n",
      " [[ 8 10 12]\n",
      " [14 16 18]]\n",
      "Subtraction:\n",
      " [[-6 -6 -6]\n",
      " [-6 -6 -6]]\n",
      "Multiplication:\n",
      " [[ 7 16 27]\n",
      " [40 55 72]]\n",
      "Division:\n",
      " [[0.14285714 0.25       0.33333333]\n",
      " [0.4        0.45454545 0.5       ]]\n"
     ]
    }
   ],
   "source": [
    "import numpy as np\n",
    "\n",
    "array1 = np.array([[1, 2, 3], [4, 5, 6]])\n",
    "array2 = np.array([[7, 8, 9], [10, 11, 12]])\n",
    "addition = array1 + array2\n",
    "subtraction = array1 - array2\n",
    "multiplication = array1 * array2\n",
    "division = array1 / array2\n",
    "\n",
    "print(\"Array 1:\\n\", array1)\n",
    "print(\"Array 2:\\n\", array2)\n",
    "print(\"Addition:\\n\", addition)\n",
    "print(\"Subtraction:\\n\", subtraction)\n",
    "print(\"Multiplication:\\n\", multiplication)\n",
    "print(\"Division:\\n\", division)\n"
   ]
  },
  {
   "cell_type": "markdown",
   "id": "a0722662-0ece-48e4-b3b7-74cfd6df145e",
   "metadata": {},
   "source": [
    "Q8) Use NumPy to create a 5x5 identity matrix, then extract its diagonal elements.\n",
    "\n",
    "Ans) "
   ]
  },
  {
   "cell_type": "code",
   "execution_count": 58,
   "id": "632e7313-03fa-4027-aaef-3bfe94662e7d",
   "metadata": {},
   "outputs": [
    {
     "name": "stdout",
     "output_type": "stream",
     "text": [
      "Identity Matrix:\n",
      " [[1. 0. 0. 0. 0.]\n",
      " [0. 1. 0. 0. 0.]\n",
      " [0. 0. 1. 0. 0.]\n",
      " [0. 0. 0. 1. 0.]\n",
      " [0. 0. 0. 0. 1.]]\n",
      "Diagonal Elements: [1. 1. 1. 1. 1.]\n"
     ]
    }
   ],
   "source": [
    "import numpy as np\n",
    "\n",
    "# Create a 5x5 identity matrix\n",
    "identity_matrix = np.eye(5)\n",
    "\n",
    "# Extract the diagonal elements\n",
    "diagonal_elements = np.diag(identity_matrix)\n",
    "\n",
    "print(\"Identity Matrix:\\n\", identity_matrix)\n",
    "print(\"Diagonal Elements:\", diagonal_elements)\n"
   ]
  },
  {
   "cell_type": "markdown",
   "id": "91275d51-38b1-4495-af94-bed539c277f7",
   "metadata": {},
   "source": [
    "Q9) Generate a NumPy array of 100 random integers between 0 and 1000. Find and display all prime numbers in  this array.\n",
    "\n",
    "Ans)"
   ]
  },
  {
   "cell_type": "code",
   "execution_count": 60,
   "id": "7dbddfe7-2464-4442-8054-2119f74a4773",
   "metadata": {},
   "outputs": [
    {
     "name": "stdout",
     "output_type": "stream",
     "text": [
      "Random Integers:\n",
      " [916  57 542 823  32 916 728 787 346  82 823 996  98 822 175  95 182 607\n",
      " 444 701 772 811 830 974 631 496 717 829 370 770 726 612 824 639 251 844\n",
      " 241 730 209 213 507 941 770 715 292 332 673 229 392 722 130 299 579 411\n",
      " 150 847 559 883 625 688 601 386 851 158 263 412 410   7 608 485  44 961\n",
      " 193 704 626 796 837 970 826 871 957 647 902 596 422 564 672 615 432 521\n",
      " 440 314 297 390 300 165 309 278 266 558]\n",
      "Prime Numbers:\n",
      " [823, 787, 823, 607, 701, 811, 631, 829, 251, 241, 941, 673, 229, 883, 601, 263, 7, 193, 647, 521]\n"
     ]
    }
   ],
   "source": [
    "import numpy as np\n",
    "\n",
    "# Generate an array of 100 random integers between 0 and 1000\n",
    "random_integers = np.random.randint(0, 1000, size=100)\n",
    "\n",
    "# Function to check if a number is prime\n",
    "def is_prime(n):\n",
    "    if n <= 1:\n",
    "        return False\n",
    "    for i in range(2, int(n**0.5) + 1):\n",
    "        if n % i == 0:\n",
    "            return False\n",
    "    return True\n",
    "\n",
    "# Find all prime numbers in the array\n",
    "prime_numbers = [num for num in random_integers if is_prime(num)]\n",
    "\n",
    "print(\"Random Integers:\\n\", random_integers)\n",
    "print(\"Prime Numbers:\\n\", prime_numbers)\n"
   ]
  },
  {
   "cell_type": "markdown",
   "id": "217f65f9-5a27-4f12-893e-f6812ce8dffd",
   "metadata": {},
   "source": [
    "Q10)  Create a NumPy array representing daily temperatures for a month. Calculate and display the weekly averages.\n",
    "\n",
    "Ans)  "
   ]
  },
  {
   "cell_type": "code",
   "execution_count": 68,
   "id": "927f3dc6-5cf3-49e9-9a53-208a1022d97d",
   "metadata": {},
   "outputs": [
    {
     "name": "stdout",
     "output_type": "stream",
     "text": [
      "Daily Temperatures:\n",
      " [22 21 22 21 29 35 30 28 24 28 35 32 24 34 22 21 21 33 28 32 31 30 27 33\n",
      " 23 28 30 31 23 24]\n",
      "Weekly Averages:\n",
      " [25.714285714285715, 29.285714285714285, 26.857142857142858, 28.857142857142858, 23.5]\n"
     ]
    }
   ],
   "source": [
    "import numpy as np\n",
    "\n",
    "daily_temperatures = np.random.randint(20, 36, size=30)\n",
    "\n",
    "# Calculate weekly averages (6 days for the first 4 weeks and 2 days for the last week)\n",
    "weekly_averages = [\n",
    "    daily_temperatures[i:i+7].mean() for i in range(0, 30, 7)\n",
    "]\n",
    "\n",
    "print(\"Daily Temperatures:\\n\", daily_temperatures)\n",
    "print(\"Weekly Averages:\\n\", weekly_averages)"
   ]
  },
  {
   "cell_type": "code",
   "execution_count": null,
   "id": "4efcedde-73fa-4446-a17c-7b4d6e53ec29",
   "metadata": {},
   "outputs": [],
   "source": []
  }
 ],
 "metadata": {
  "kernelspec": {
   "display_name": "Python 3 (ipykernel)",
   "language": "python",
   "name": "python3"
  },
  "language_info": {
   "codemirror_mode": {
    "name": "ipython",
    "version": 3
   },
   "file_extension": ".py",
   "mimetype": "text/x-python",
   "name": "python",
   "nbconvert_exporter": "python",
   "pygments_lexer": "ipython3",
   "version": "3.12.4"
  }
 },
 "nbformat": 4,
 "nbformat_minor": 5
}
